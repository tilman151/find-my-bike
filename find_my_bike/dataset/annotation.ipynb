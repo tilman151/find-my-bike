{
 "cells": [
  {
   "cell_type": "code",
   "execution_count": 4,
   "id": "53eefa66",
   "metadata": {},
   "outputs": [],
   "source": [
    "import os\n",
    "import json\n",
    "from pigeon import annotate\n",
    "from IPython.display import display, Image"
   ]
  },
  {
   "cell_type": "code",
   "execution_count": 10,
   "id": "40888d7f",
   "metadata": {},
   "outputs": [],
   "source": [
    "data_path = \"../data/ebay_val\"\n",
    "meta_file = os.path.join(data_path, \"meta.json\")"
   ]
  },
  {
   "cell_type": "code",
   "execution_count": 5,
   "id": "d7a38d72",
   "metadata": {},
   "outputs": [
    {
     "data": {
      "application/vnd.jupyter.widget-view+json": {
       "model_id": "717494ea6af4481e994fd34cd8787fa8",
       "version_major": 2,
       "version_minor": 0
      },
      "text/plain": [
       "HTML(value='0 examples annotated, 301 examples left')"
      ]
     },
     "metadata": {},
     "output_type": "display_data"
    },
    {
     "data": {
      "application/vnd.jupyter.widget-view+json": {
       "model_id": "2a8e647e03aa4228b414a0b59674c371",
       "version_major": 2,
       "version_minor": 0
      },
      "text/plain": [
       "HBox(children=(Button(description='no_bike', style=ButtonStyle()), Button(description='bike', style=ButtonStyl…"
      ]
     },
     "metadata": {},
     "output_type": "display_data"
    },
    {
     "data": {
      "application/vnd.jupyter.widget-view+json": {
       "model_id": "424ea17132b9490fa9bd7c055295e98a",
       "version_major": 2,
       "version_minor": 0
      },
      "text/plain": [
       "Output()"
      ]
     },
     "metadata": {},
     "output_type": "display_data"
    },
    {
     "name": "stdout",
     "output_type": "stream",
     "text": [
      "Annotation done.\n"
     ]
    }
   ],
   "source": [
    "with open(meta_file, mode=\"rt\") as f:\n",
    "    meta = json.load(f)\n",
    "\n",
    "annotations = annotate(\n",
    "  [os.path.join(data_path, file_name) for file_name in meta.keys()],\n",
    "  options=['no_bike', 'bike'],\n",
    "  display_fn=lambda filename: display(Image(filename))\n",
    ")"
   ]
  },
  {
   "cell_type": "code",
   "execution_count": 13,
   "id": "c91f61be",
   "metadata": {},
   "outputs": [],
   "source": [
    "annotations = [(os.path.basename(file_path), label) for file_path, label in annotations]\n",
    "for file_name, label in annotations:\n",
    "    meta[file_name][\"labels\"] = {\"bike\": label}"
   ]
  },
  {
   "cell_type": "code",
   "execution_count": 20,
   "id": "a09a0a02",
   "metadata": {},
   "outputs": [],
   "source": [
    "with open(meta_file, mode=\"wt\") as f:\n",
    "    json.dump(meta, f, indent=4)"
   ]
  }
 ],
 "metadata": {
  "kernelspec": {
   "display_name": "Python 3 (ipykernel)",
   "language": "python",
   "name": "python3"
  },
  "language_info": {
   "codemirror_mode": {
    "name": "ipython",
    "version": 3
   },
   "file_extension": ".py",
   "mimetype": "text/x-python",
   "name": "python",
   "nbconvert_exporter": "python",
   "pygments_lexer": "ipython3",
   "version": "3.9.7"
  }
 },
 "nbformat": 4,
 "nbformat_minor": 5
}
